{
 "cells": [
  {
   "cell_type": "code",
   "id": "initial_id",
   "metadata": {
    "collapsed": true,
    "ExecuteTime": {
     "end_time": "2024-09-17T12:06:11.712115Z",
     "start_time": "2024-09-17T12:06:11.704741Z"
    }
   },
   "source": [
    "import warnings\n",
    "warnings.filterwarnings('ignore')"
   ],
   "outputs": [],
   "execution_count": 1
  },
  {
   "metadata": {},
   "cell_type": "markdown",
   "source": [
    "# Video Support\n",
    "\n",
    "The `FitsArray` class supports video importation, allowing each frame of a video to be treated as an individual FITS file. The `from_video` method accepts a keyword argument `start_time`, which can be used to control the time values associated with each frame.\n",
    "\n",
    "## Parameters\n",
    "- **start_time** (`float`, optional): \n",
    "  - This value represents the starting time (in days) from which the cumulative `MY_RELJD` values for each FITS file are calculated.\n",
    "  - If a `start_time` is provided, the `MY_RELJD` value for each frame will be incremented based on the video's FPS (Frames Per Second). For example, the second frame will have a `MY_RELJD` of `start_time + 1/(FPS * 86400)`, the third frame will have `start_time + 2/(FPS * 86400)`, and so on.\n",
    "  - If `start_time` is set to `None`, the `MY_RELJD` for the first frame will be treated as zero (`0`), and the subsequent frames will follow the same cumulative increment based on FPS.\n",
    "\n",
    "## Usage Example\n",
    "\n",
    "```python\n",
    "fits_array = FitsArray.from_video(\"path_to_video.mp4\", start_time=2450000.5)\n",
    "```\n",
    "\n",
    "In this example, each frame of the video is processed as a FITS file, and the `MY_RELJD` value starts at `2450000.5` and increases cumulatively for each subsequent frame.\n",
    "\n",
    "---\n",
    "\n",
    "This documentation provides details on how to import videos and manage frame timing within the `FitsArray` class."
   ],
   "id": "dfc505e151fa9445"
  },
  {
   "metadata": {
    "ExecuteTime": {
     "end_time": "2024-09-17T12:13:51.198174Z",
     "start_time": "2024-09-17T12:13:47.810568Z"
    }
   },
   "cell_type": "code",
   "source": [
    "from myraflib import FitsArray\n",
    "\n",
    "fa =FitsArray.from_video(\"oc.mov\")\n",
    "fa"
   ],
   "id": "535c055219bd2cac",
   "outputs": [
    {
     "data": {
      "text/plain": [
       "FitsArray(@: '123413184994640', nof:'794')"
      ]
     },
     "execution_count": 2,
     "metadata": {},
     "output_type": "execute_result"
    }
   ],
   "execution_count": 2
  },
  {
   "metadata": {},
   "cell_type": "markdown",
   "source": "Video importation is handled using the `opencv-python` library. As a result, any video format supported by `opencv-pytho`n is also supported by `FitsArray`.",
   "id": "e94c2508b2fb4a3e"
  },
  {
   "metadata": {},
   "cell_type": "code",
   "outputs": [],
   "execution_count": null,
   "source": "",
   "id": "649529b909400822"
  }
 ],
 "metadata": {
  "kernelspec": {
   "display_name": "Python 3",
   "language": "python",
   "name": "python3"
  },
  "language_info": {
   "codemirror_mode": {
    "name": "ipython",
    "version": 2
   },
   "file_extension": ".py",
   "mimetype": "text/x-python",
   "name": "python",
   "nbconvert_exporter": "python",
   "pygments_lexer": "ipython2",
   "version": "2.7.6"
  }
 },
 "nbformat": 4,
 "nbformat_minor": 5
}
