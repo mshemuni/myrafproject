{
 "cells": [
  {
   "metadata": {},
   "cell_type": "markdown",
   "source": "# Other",
   "id": "3d28064902dfc450"
  },
  {
   "metadata": {
    "ExecuteTime": {
     "end_time": "2024-09-23T10:05:21.000214Z",
     "start_time": "2024-09-23T10:05:19.399872Z"
    }
   },
   "cell_type": "code",
   "source": [
    "from myraflib import FitsArray\n",
    "from astropy.coordinates import SkyCoord\n",
    "\n",
    "fits_array = FitsArray.sample()\n",
    "fits_array"
   ],
   "id": "e266912227865b91",
   "outputs": [
    {
     "data": {
      "text/plain": [
       "FitsArray(@: '140335363301200', nof:'10')"
      ]
     },
     "execution_count": 2,
     "metadata": {},
     "output_type": "execute_result"
    }
   ],
   "execution_count": 2
  },
  {
   "metadata": {},
   "cell_type": "markdown",
   "source": [
    "Here’s a refined version for the documentation:\n",
    "\n",
    "## cosmic_clean\n",
    "This method uses the `cosmicray_lacosmic` algorithm to remove cosmic ray artifacts from digital images.\n"
   ],
   "id": "862ca098f595b560"
  },
  {
   "metadata": {
    "ExecuteTime": {
     "end_time": "2024-09-23T10:05:22.250940Z",
     "start_time": "2024-09-23T10:05:21.097288Z"
    }
   },
   "cell_type": "code",
   "source": [
    "cleaned_fits = fits_array.cosmic_clean()\n",
    "residue = fits_array - cleaned_fits\n",
    "residue[0].show()"
   ],
   "id": "7efb08defc912e10",
   "outputs": [
    {
     "name": "stderr",
     "output_type": "stream",
     "text": [
      "Processing files:   0%|          | 0/10 [00:00<?, ?it/s]\n"
     ]
    },
    {
     "ename": "KeyboardInterrupt",
     "evalue": "",
     "output_type": "error",
     "traceback": [
      "\u001B[0;31m---------------------------------------------------------------------------\u001B[0m",
      "\u001B[0;31mKeyboardInterrupt\u001B[0m                         Traceback (most recent call last)",
      "Cell \u001B[0;32mIn[3], line 1\u001B[0m\n\u001B[0;32m----> 1\u001B[0m cleaned_fits \u001B[38;5;241m=\u001B[39m \u001B[43mfits_array\u001B[49m\u001B[38;5;241;43m.\u001B[39;49m\u001B[43mcosmic_clean\u001B[49m\u001B[43m(\u001B[49m\u001B[43m)\u001B[49m\n\u001B[1;32m      2\u001B[0m residue \u001B[38;5;241m=\u001B[39m fits_array \u001B[38;5;241m-\u001B[39m cleaned_fits\n\u001B[1;32m      3\u001B[0m residue[\u001B[38;5;241m0\u001B[39m]\u001B[38;5;241m.\u001B[39mshow()\n",
      "File \u001B[0;32m~/Documents/myrafproject/src/myraflib/fitsarray.py:1790\u001B[0m, in \u001B[0;36mFitsArray.cosmic_clean\u001B[0;34m(self, output, override, sigclip, sigfrac, objlim, gain, readnoise, satlevel, niter, sepmed, cleantype, fsmode, psfmodel, psffwhm, psfsize, psfk, psfbeta, gain_apply)\u001B[0m\n\u001B[1;32m   1788\u001B[0m \u001B[38;5;28;01mfor\u001B[39;00m fits, out_fit \u001B[38;5;129;01min\u001B[39;00m \u001B[38;5;28mzip\u001B[39m(\u001B[38;5;28mself\u001B[39m\u001B[38;5;241m.\u001B[39m__verbosify(\u001B[38;5;28mself\u001B[39m), outputs):\n\u001B[1;32m   1789\u001B[0m     \u001B[38;5;28;01mtry\u001B[39;00m:\n\u001B[0;32m-> 1790\u001B[0m         clean_fits \u001B[38;5;241m=\u001B[39m \u001B[43mfits\u001B[49m\u001B[38;5;241;43m.\u001B[39;49m\u001B[43mcosmic_clean\u001B[49m\u001B[43m(\u001B[49m\n\u001B[1;32m   1791\u001B[0m \u001B[43m            \u001B[49m\u001B[43mout_fit\u001B[49m\u001B[43m,\u001B[49m\n\u001B[1;32m   1792\u001B[0m \u001B[43m            \u001B[49m\u001B[43moverride\u001B[49m\u001B[38;5;241;43m=\u001B[39;49m\u001B[43moverride\u001B[49m\u001B[43m,\u001B[49m\u001B[43m \u001B[49m\u001B[43msigclip\u001B[49m\u001B[38;5;241;43m=\u001B[39;49m\u001B[43msigclip\u001B[49m\u001B[43m,\u001B[49m\u001B[43m \u001B[49m\u001B[43msigfrac\u001B[49m\u001B[38;5;241;43m=\u001B[39;49m\u001B[43msigfrac\u001B[49m\u001B[43m,\u001B[49m\n\u001B[1;32m   1793\u001B[0m \u001B[43m            \u001B[49m\u001B[43mobjlim\u001B[49m\u001B[38;5;241;43m=\u001B[39;49m\u001B[43mobjlim\u001B[49m\u001B[43m,\u001B[49m\u001B[43m \u001B[49m\u001B[43mgain\u001B[49m\u001B[38;5;241;43m=\u001B[39;49m\u001B[43mgain\u001B[49m\u001B[43m,\u001B[49m\u001B[43m \u001B[49m\u001B[43mreadnoise\u001B[49m\u001B[38;5;241;43m=\u001B[39;49m\u001B[43mreadnoise\u001B[49m\u001B[43m,\u001B[49m\n\u001B[1;32m   1794\u001B[0m \u001B[43m            \u001B[49m\u001B[43msatlevel\u001B[49m\u001B[38;5;241;43m=\u001B[39;49m\u001B[43msatlevel\u001B[49m\u001B[43m,\u001B[49m\u001B[43m \u001B[49m\u001B[43mniter\u001B[49m\u001B[38;5;241;43m=\u001B[39;49m\u001B[43mniter\u001B[49m\u001B[43m,\u001B[49m\u001B[43m \u001B[49m\u001B[43msepmed\u001B[49m\u001B[38;5;241;43m=\u001B[39;49m\u001B[43msepmed\u001B[49m\u001B[43m,\u001B[49m\n\u001B[1;32m   1795\u001B[0m \u001B[43m            \u001B[49m\u001B[43mcleantype\u001B[49m\u001B[38;5;241;43m=\u001B[39;49m\u001B[43mcleantype\u001B[49m\u001B[43m,\u001B[49m\u001B[43m \u001B[49m\u001B[43mfsmode\u001B[49m\u001B[38;5;241;43m=\u001B[39;49m\u001B[43mfsmode\u001B[49m\u001B[43m,\u001B[49m\u001B[43m \u001B[49m\u001B[43mpsfmodel\u001B[49m\u001B[38;5;241;43m=\u001B[39;49m\u001B[43mpsfmodel\u001B[49m\u001B[43m,\u001B[49m\n\u001B[1;32m   1796\u001B[0m \u001B[43m            \u001B[49m\u001B[43mpsffwhm\u001B[49m\u001B[38;5;241;43m=\u001B[39;49m\u001B[43mpsffwhm\u001B[49m\u001B[43m,\u001B[49m\u001B[43m \u001B[49m\u001B[43mpsfsize\u001B[49m\u001B[38;5;241;43m=\u001B[39;49m\u001B[43mpsfsize\u001B[49m\u001B[43m,\u001B[49m\u001B[43m \u001B[49m\u001B[43mpsfk\u001B[49m\u001B[38;5;241;43m=\u001B[39;49m\u001B[43mpsfk\u001B[49m\u001B[43m,\u001B[49m\n\u001B[1;32m   1797\u001B[0m \u001B[43m            \u001B[49m\u001B[43mpsfbeta\u001B[49m\u001B[38;5;241;43m=\u001B[39;49m\u001B[43mpsfbeta\u001B[49m\u001B[43m,\u001B[49m\n\u001B[1;32m   1798\u001B[0m \u001B[43m            \u001B[49m\u001B[43mgain_apply\u001B[49m\u001B[38;5;241;43m=\u001B[39;49m\u001B[43mgain_apply\u001B[49m\n\u001B[1;32m   1799\u001B[0m \u001B[43m        \u001B[49m\u001B[43m)\u001B[49m\n\u001B[1;32m   1800\u001B[0m         clean_fits_array\u001B[38;5;241m.\u001B[39mappend(clean_fits)\n\u001B[1;32m   1801\u001B[0m     \u001B[38;5;28;01mexcept\u001B[39;00m \u001B[38;5;167;01mException\u001B[39;00m \u001B[38;5;28;01mas\u001B[39;00m error:\n",
      "File \u001B[0;32m~/Documents/myrafproject/src/myraflib/fits.py:540\u001B[0m, in \u001B[0;36mFits.cosmic_clean\u001B[0;34m(self, output, override, sigclip, sigfrac, objlim, gain, readnoise, satlevel, niter, sepmed, cleantype, fsmode, psfmodel, psffwhm, psfsize, psfk, psfbeta, gain_apply)\u001B[0m\n\u001B[1;32m    438\u001B[0m \u001B[38;5;250m\u001B[39m\u001B[38;5;124;03m\"\"\"\u001B[39;00m\n\u001B[1;32m    439\u001B[0m \u001B[38;5;124;03mClears cosmic rays from the fits file\u001B[39;00m\n\u001B[1;32m    440\u001B[0m \n\u001B[0;32m   (...)\u001B[0m\n\u001B[1;32m    536\u001B[0m \u001B[38;5;124;03m    Cleaned fits\u001B[39;00m\n\u001B[1;32m    537\u001B[0m \u001B[38;5;124;03m\"\"\"\u001B[39;00m\n\u001B[1;32m    538\u001B[0m \u001B[38;5;28mself\u001B[39m\u001B[38;5;241m.\u001B[39mlogger\u001B[38;5;241m.\u001B[39minfo(\u001B[38;5;124m\"\u001B[39m\u001B[38;5;124mCleaning the data\u001B[39m\u001B[38;5;124m\"\u001B[39m)\n\u001B[0;32m--> 540\u001B[0m cleaned_data, _ \u001B[38;5;241m=\u001B[39m \u001B[43mcosmicray_lacosmic\u001B[49m\u001B[43m(\u001B[49m\n\u001B[1;32m    541\u001B[0m \u001B[43m    \u001B[49m\u001B[38;5;28;43mself\u001B[39;49m\u001B[38;5;241;43m.\u001B[39;49m\u001B[43mdata\u001B[49m\u001B[43m(\u001B[49m\u001B[43m)\u001B[49m\u001B[43m,\u001B[49m\u001B[43m \u001B[49m\u001B[43msigclip\u001B[49m\u001B[38;5;241;43m=\u001B[39;49m\u001B[43msigclip\u001B[49m\u001B[43m,\u001B[49m\n\u001B[1;32m    542\u001B[0m \u001B[43m    \u001B[49m\u001B[43msigfrac\u001B[49m\u001B[38;5;241;43m=\u001B[39;49m\u001B[43msigfrac\u001B[49m\u001B[43m,\u001B[49m\u001B[43m \u001B[49m\u001B[43mobjlim\u001B[49m\u001B[38;5;241;43m=\u001B[39;49m\u001B[43mobjlim\u001B[49m\u001B[43m,\u001B[49m\n\u001B[1;32m    543\u001B[0m \u001B[43m    \u001B[49m\u001B[43mgain\u001B[49m\u001B[38;5;241;43m=\u001B[39;49m\u001B[43mgain\u001B[49m\u001B[43m,\u001B[49m\u001B[43m \u001B[49m\u001B[43mreadnoise\u001B[49m\u001B[38;5;241;43m=\u001B[39;49m\u001B[43mreadnoise\u001B[49m\u001B[43m,\u001B[49m\u001B[43m \u001B[49m\u001B[43msatlevel\u001B[49m\u001B[38;5;241;43m=\u001B[39;49m\u001B[43msatlevel\u001B[49m\u001B[43m,\u001B[49m\n\u001B[1;32m    544\u001B[0m \u001B[43m    \u001B[49m\u001B[43mniter\u001B[49m\u001B[38;5;241;43m=\u001B[39;49m\u001B[43mniter\u001B[49m\u001B[43m,\u001B[49m\u001B[43m \u001B[49m\u001B[43msepmed\u001B[49m\u001B[38;5;241;43m=\u001B[39;49m\u001B[43msepmed\u001B[49m\u001B[43m,\u001B[49m\u001B[43m \u001B[49m\u001B[43mcleantype\u001B[49m\u001B[38;5;241;43m=\u001B[39;49m\u001B[43mcleantype\u001B[49m\u001B[38;5;241;43m.\u001B[39;49m\u001B[43mlower\u001B[49m\u001B[43m(\u001B[49m\u001B[43m)\u001B[49m\u001B[43m,\u001B[49m\u001B[43m \u001B[49m\u001B[43mfsmode\u001B[49m\u001B[38;5;241;43m=\u001B[39;49m\u001B[43mfsmode\u001B[49m\u001B[38;5;241;43m.\u001B[39;49m\u001B[43mlower\u001B[49m\u001B[43m(\u001B[49m\u001B[43m)\u001B[49m\u001B[43m,\u001B[49m\n\u001B[1;32m    545\u001B[0m \u001B[43m    \u001B[49m\u001B[43mpsfmodel\u001B[49m\u001B[38;5;241;43m=\u001B[39;49m\u001B[43mpsfmodel\u001B[49m\u001B[38;5;241;43m.\u001B[39;49m\u001B[43mlower\u001B[49m\u001B[43m(\u001B[49m\u001B[43m)\u001B[49m\u001B[43m,\u001B[49m\u001B[43m \u001B[49m\u001B[43mpsffwhm\u001B[49m\u001B[38;5;241;43m=\u001B[39;49m\u001B[43mpsffwhm\u001B[49m\u001B[43m,\u001B[49m\u001B[43m \u001B[49m\u001B[43mpsfsize\u001B[49m\u001B[38;5;241;43m=\u001B[39;49m\u001B[43mpsfsize\u001B[49m\u001B[43m,\u001B[49m\u001B[43m \u001B[49m\u001B[43mpsfk\u001B[49m\u001B[38;5;241;43m=\u001B[39;49m\u001B[43mpsfk\u001B[49m\u001B[43m,\u001B[49m\n\u001B[1;32m    546\u001B[0m \u001B[43m    \u001B[49m\u001B[43mpsfbeta\u001B[49m\u001B[38;5;241;43m=\u001B[39;49m\u001B[43mpsfbeta\u001B[49m\u001B[43m,\u001B[49m\u001B[43m \u001B[49m\u001B[43mgain_apply\u001B[49m\u001B[38;5;241;43m=\u001B[39;49m\u001B[43mgain_apply\u001B[49m\n\u001B[1;32m    547\u001B[0m \u001B[43m\u001B[49m\u001B[43m)\u001B[49m\n\u001B[1;32m    549\u001B[0m \u001B[38;5;28;01mreturn\u001B[39;00m \u001B[38;5;28mself\u001B[39m\u001B[38;5;241m.\u001B[39mfrom_data_header(cleaned_data\u001B[38;5;241m.\u001B[39mvalue, header\u001B[38;5;241m=\u001B[39m\u001B[38;5;28mself\u001B[39m\u001B[38;5;241m.\u001B[39mpure_header(), output\u001B[38;5;241m=\u001B[39moutput, override\u001B[38;5;241m=\u001B[39moverride)\n",
      "File \u001B[0;32m~/Documents/venvs/myrafproject/lib64/python3.11/site-packages/astropy/utils/decorators.py:603\u001B[0m, in \u001B[0;36mdeprecated_renamed_argument.<locals>.decorator.<locals>.wrapper\u001B[0;34m(*args, **kwargs)\u001B[0m\n\u001B[1;32m    600\u001B[0m             msg \u001B[38;5;241m+\u001B[39m\u001B[38;5;241m=\u001B[39m \u001B[38;5;124mf\u001B[39m\u001B[38;5;124m\"\u001B[39m\u001B[38;5;130;01m\\n\u001B[39;00m\u001B[38;5;124m        Use \u001B[39m\u001B[38;5;132;01m{\u001B[39;00malternative\u001B[38;5;132;01m}\u001B[39;00m\u001B[38;5;124m instead.\u001B[39m\u001B[38;5;124m\"\u001B[39m\n\u001B[1;32m    601\u001B[0m         warnings\u001B[38;5;241m.\u001B[39mwarn(msg, warning_type, stacklevel\u001B[38;5;241m=\u001B[39m\u001B[38;5;241m2\u001B[39m)\n\u001B[0;32m--> 603\u001B[0m \u001B[38;5;28;01mreturn\u001B[39;00m \u001B[43mfunction\u001B[49m\u001B[43m(\u001B[49m\u001B[38;5;241;43m*\u001B[39;49m\u001B[43margs\u001B[49m\u001B[43m,\u001B[49m\u001B[43m \u001B[49m\u001B[38;5;241;43m*\u001B[39;49m\u001B[38;5;241;43m*\u001B[39;49m\u001B[43mkwargs\u001B[49m\u001B[43m)\u001B[49m\n",
      "File \u001B[0;32m~/Documents/venvs/myrafproject/lib/python3.11/site-packages/ccdproc/core.py:1563\u001B[0m, in \u001B[0;36mcosmicray_lacosmic\u001B[0;34m(ccd, sigclip, sigfrac, objlim, gain, readnoise, satlevel, pssl, niter, sepmed, cleantype, fsmode, psfmodel, psffwhm, psfsize, psfk, psfbeta, verbose, gain_apply, inbkg, invar)\u001B[0m\n\u001B[1;32m   1560\u001B[0m \u001B[38;5;28;01mif\u001B[39;00m \u001B[38;5;28misinstance\u001B[39m(ccd, np\u001B[38;5;241m.\u001B[39mndarray):\n\u001B[1;32m   1561\u001B[0m     data \u001B[38;5;241m=\u001B[39m ccd\n\u001B[0;32m-> 1563\u001B[0m     crmask, cleanarr \u001B[38;5;241m=\u001B[39m \u001B[43mdetect_cosmics\u001B[49m\u001B[43m(\u001B[49m\n\u001B[1;32m   1564\u001B[0m \u001B[43m        \u001B[49m\u001B[43mdata\u001B[49m\u001B[43m \u001B[49m\u001B[38;5;241;43m+\u001B[39;49m\u001B[43m \u001B[49m\u001B[43mdata_offset\u001B[49m\u001B[43m,\u001B[49m\u001B[43m \u001B[49m\u001B[43minmask\u001B[49m\u001B[38;5;241;43m=\u001B[39;49m\u001B[38;5;28;43;01mNone\u001B[39;49;00m\u001B[43m,\u001B[49m\u001B[43m \u001B[49m\u001B[43msigclip\u001B[49m\u001B[38;5;241;43m=\u001B[39;49m\u001B[43msigclip\u001B[49m\u001B[43m,\u001B[49m\n\u001B[1;32m   1565\u001B[0m \u001B[43m        \u001B[49m\u001B[43msigfrac\u001B[49m\u001B[38;5;241;43m=\u001B[39;49m\u001B[43msigfrac\u001B[49m\u001B[43m,\u001B[49m\u001B[43m \u001B[49m\u001B[43mobjlim\u001B[49m\u001B[38;5;241;43m=\u001B[39;49m\u001B[43mobjlim\u001B[49m\u001B[43m,\u001B[49m\u001B[43m \u001B[49m\u001B[43mgain\u001B[49m\u001B[38;5;241;43m=\u001B[39;49m\u001B[43mgain\u001B[49m\u001B[38;5;241;43m.\u001B[39;49m\u001B[43mvalue\u001B[49m\u001B[43m,\u001B[49m\n\u001B[1;32m   1566\u001B[0m \u001B[43m        \u001B[49m\u001B[43mreadnoise\u001B[49m\u001B[38;5;241;43m=\u001B[39;49m\u001B[43mreadnoise\u001B[49m\u001B[38;5;241;43m.\u001B[39;49m\u001B[43mvalue\u001B[49m\u001B[43m,\u001B[49m\u001B[43m \u001B[49m\u001B[43msatlevel\u001B[49m\u001B[38;5;241;43m=\u001B[39;49m\u001B[43msatlevel\u001B[49m\u001B[43m,\u001B[49m\n\u001B[1;32m   1567\u001B[0m \u001B[43m        \u001B[49m\u001B[43mniter\u001B[49m\u001B[38;5;241;43m=\u001B[39;49m\u001B[43mniter\u001B[49m\u001B[43m,\u001B[49m\u001B[43m \u001B[49m\u001B[43msepmed\u001B[49m\u001B[38;5;241;43m=\u001B[39;49m\u001B[43msepmed\u001B[49m\u001B[43m,\u001B[49m\u001B[43m \u001B[49m\u001B[43mcleantype\u001B[49m\u001B[38;5;241;43m=\u001B[39;49m\u001B[43mcleantype\u001B[49m\u001B[43m,\u001B[49m\n\u001B[1;32m   1568\u001B[0m \u001B[43m        \u001B[49m\u001B[43mfsmode\u001B[49m\u001B[38;5;241;43m=\u001B[39;49m\u001B[43mfsmode\u001B[49m\u001B[43m,\u001B[49m\u001B[43m \u001B[49m\u001B[43mpsfmodel\u001B[49m\u001B[38;5;241;43m=\u001B[39;49m\u001B[43mpsfmodel\u001B[49m\u001B[43m,\u001B[49m\u001B[43m \u001B[49m\u001B[43mpsffwhm\u001B[49m\u001B[38;5;241;43m=\u001B[39;49m\u001B[43mpsffwhm\u001B[49m\u001B[43m,\u001B[49m\n\u001B[1;32m   1569\u001B[0m \u001B[43m        \u001B[49m\u001B[43mpsfsize\u001B[49m\u001B[38;5;241;43m=\u001B[39;49m\u001B[43mpsfsize\u001B[49m\u001B[43m,\u001B[49m\u001B[43m \u001B[49m\u001B[43mpsfk\u001B[49m\u001B[38;5;241;43m=\u001B[39;49m\u001B[43mpsfk\u001B[49m\u001B[43m,\u001B[49m\u001B[43m \u001B[49m\u001B[43mpsfbeta\u001B[49m\u001B[38;5;241;43m=\u001B[39;49m\u001B[43mpsfbeta\u001B[49m\u001B[43m,\u001B[49m\n\u001B[1;32m   1570\u001B[0m \u001B[43m        \u001B[49m\u001B[43mverbose\u001B[49m\u001B[38;5;241;43m=\u001B[39;49m\u001B[43mverbose\u001B[49m\u001B[43m,\u001B[49m\n\u001B[1;32m   1571\u001B[0m \u001B[43m        \u001B[49m\u001B[38;5;241;43m*\u001B[39;49m\u001B[38;5;241;43m*\u001B[39;49m\u001B[43masy_background_kwargs\u001B[49m\u001B[43m)\u001B[49m\n\u001B[1;32m   1573\u001B[0m     cleanarr \u001B[38;5;241m=\u001B[39m cleanarr \u001B[38;5;241m-\u001B[39m data_offset\n\u001B[1;32m   1574\u001B[0m     cleanarr \u001B[38;5;241m=\u001B[39m _astroscrappy_gain_apply_helper(cleanarr,\n\u001B[1;32m   1575\u001B[0m                                                gain,\n\u001B[1;32m   1576\u001B[0m                                                gain_apply,\n\u001B[1;32m   1577\u001B[0m                                                old_astroscrappy_interface)\n",
      "File \u001B[0;32m~/Documents/venvs/myrafproject/lib64/python3.11/site-packages/astroscrappy/astroscrappy.pyx:389\u001B[0m, in \u001B[0;36mastroscrappy.astroscrappy.detect_cosmics\u001B[0;34m()\u001B[0m\n",
      "File \u001B[0;32m~/Documents/venvs/myrafproject/lib64/python3.11/site-packages/numpy/core/_methods.py:47\u001B[0m, in \u001B[0;36m_sum\u001B[0;34m(a, axis, dtype, out, keepdims, initial, where)\u001B[0m\n\u001B[1;32m     43\u001B[0m \u001B[38;5;28;01mdef\u001B[39;00m \u001B[38;5;21m_amin\u001B[39m(a, axis\u001B[38;5;241m=\u001B[39m\u001B[38;5;28;01mNone\u001B[39;00m, out\u001B[38;5;241m=\u001B[39m\u001B[38;5;28;01mNone\u001B[39;00m, keepdims\u001B[38;5;241m=\u001B[39m\u001B[38;5;28;01mFalse\u001B[39;00m,\n\u001B[1;32m     44\u001B[0m           initial\u001B[38;5;241m=\u001B[39m_NoValue, where\u001B[38;5;241m=\u001B[39m\u001B[38;5;28;01mTrue\u001B[39;00m):\n\u001B[1;32m     45\u001B[0m     \u001B[38;5;28;01mreturn\u001B[39;00m umr_minimum(a, axis, \u001B[38;5;28;01mNone\u001B[39;00m, out, keepdims, initial, where)\n\u001B[0;32m---> 47\u001B[0m \u001B[38;5;28;01mdef\u001B[39;00m \u001B[38;5;21m_sum\u001B[39m(a, axis\u001B[38;5;241m=\u001B[39m\u001B[38;5;28;01mNone\u001B[39;00m, dtype\u001B[38;5;241m=\u001B[39m\u001B[38;5;28;01mNone\u001B[39;00m, out\u001B[38;5;241m=\u001B[39m\u001B[38;5;28;01mNone\u001B[39;00m, keepdims\u001B[38;5;241m=\u001B[39m\u001B[38;5;28;01mFalse\u001B[39;00m,\n\u001B[1;32m     48\u001B[0m          initial\u001B[38;5;241m=\u001B[39m_NoValue, where\u001B[38;5;241m=\u001B[39m\u001B[38;5;28;01mTrue\u001B[39;00m):\n\u001B[1;32m     49\u001B[0m     \u001B[38;5;28;01mreturn\u001B[39;00m umr_sum(a, axis, dtype, out, keepdims, initial, where)\n\u001B[1;32m     51\u001B[0m \u001B[38;5;28;01mdef\u001B[39;00m \u001B[38;5;21m_prod\u001B[39m(a, axis\u001B[38;5;241m=\u001B[39m\u001B[38;5;28;01mNone\u001B[39;00m, dtype\u001B[38;5;241m=\u001B[39m\u001B[38;5;28;01mNone\u001B[39;00m, out\u001B[38;5;241m=\u001B[39m\u001B[38;5;28;01mNone\u001B[39;00m, keepdims\u001B[38;5;241m=\u001B[39m\u001B[38;5;28;01mFalse\u001B[39;00m,\n\u001B[1;32m     52\u001B[0m           initial\u001B[38;5;241m=\u001B[39m_NoValue, where\u001B[38;5;241m=\u001B[39m\u001B[38;5;28;01mTrue\u001B[39;00m):\n",
      "\u001B[0;31mKeyboardInterrupt\u001B[0m: "
     ]
    }
   ],
   "execution_count": 3
  },
  {
   "metadata": {},
   "cell_type": "markdown",
   "source": [
    "## imstat\n",
    "returns digital image's statistics"
   ],
   "id": "5776895c61648d67"
  },
  {
   "metadata": {
    "ExecuteTime": {
     "end_time": "2024-09-23T10:05:22.252635385Z",
     "start_time": "2024-09-13T11:49:56.679976Z"
    }
   },
   "cell_type": "code",
   "source": "fits_array.imstat()",
   "id": "11fa567362dbf094",
   "outputs": [
    {
     "data": {
      "text/plain": [
       "                            npix         mean       stddev     min      max\n",
       "image                                                                      \n",
       "/tmp/myraf_80wz3_xg.fits  795663  9831.481676  3032.392754  3759.0  22918.0\n",
       "/tmp/myraf_zye5lbk7.fits  795663  9812.650495  3004.178042  3759.0  22918.0\n",
       "/tmp/myraf_us10d71a.fits  795663  9793.256171  2975.413821  3759.0  22918.0\n",
       "/tmp/myraf_dkrfib90.fits  795663  9773.435316  2946.105661  3759.0  22918.0\n",
       "/tmp/myraf_qzk_xv9k.fits  795663  9753.279435  2914.886368  3759.0  22918.0\n",
       "/tmp/myraf_j7kx3iu8.fits  795663  9732.043198  2882.845449  3759.0  22907.0\n",
       "/tmp/myraf_yssaz3fw.fits  795663  9709.984656  2849.064228  3759.0  22907.0\n",
       "/tmp/myraf_j0c2n4w3.fits  795663  9688.647336  2816.956078  3759.0  22907.0\n",
       "/tmp/myraf_w_m5oh0a.fits  795663  9666.532660  2783.737161  3759.0  22907.0\n",
       "/tmp/myraf_d2_hh3ff.fits  795663  9644.765056  2750.554935  3759.0  22907.0"
      ],
      "text/html": [
       "<div>\n",
       "<style scoped>\n",
       "    .dataframe tbody tr th:only-of-type {\n",
       "        vertical-align: middle;\n",
       "    }\n",
       "\n",
       "    .dataframe tbody tr th {\n",
       "        vertical-align: top;\n",
       "    }\n",
       "\n",
       "    .dataframe thead th {\n",
       "        text-align: right;\n",
       "    }\n",
       "</style>\n",
       "<table border=\"1\" class=\"dataframe\">\n",
       "  <thead>\n",
       "    <tr style=\"text-align: right;\">\n",
       "      <th></th>\n",
       "      <th>npix</th>\n",
       "      <th>mean</th>\n",
       "      <th>stddev</th>\n",
       "      <th>min</th>\n",
       "      <th>max</th>\n",
       "    </tr>\n",
       "    <tr>\n",
       "      <th>image</th>\n",
       "      <th></th>\n",
       "      <th></th>\n",
       "      <th></th>\n",
       "      <th></th>\n",
       "      <th></th>\n",
       "    </tr>\n",
       "  </thead>\n",
       "  <tbody>\n",
       "    <tr>\n",
       "      <th>/tmp/myraf_80wz3_xg.fits</th>\n",
       "      <td>795663</td>\n",
       "      <td>9831.481676</td>\n",
       "      <td>3032.392754</td>\n",
       "      <td>3759.0</td>\n",
       "      <td>22918.0</td>\n",
       "    </tr>\n",
       "    <tr>\n",
       "      <th>/tmp/myraf_zye5lbk7.fits</th>\n",
       "      <td>795663</td>\n",
       "      <td>9812.650495</td>\n",
       "      <td>3004.178042</td>\n",
       "      <td>3759.0</td>\n",
       "      <td>22918.0</td>\n",
       "    </tr>\n",
       "    <tr>\n",
       "      <th>/tmp/myraf_us10d71a.fits</th>\n",
       "      <td>795663</td>\n",
       "      <td>9793.256171</td>\n",
       "      <td>2975.413821</td>\n",
       "      <td>3759.0</td>\n",
       "      <td>22918.0</td>\n",
       "    </tr>\n",
       "    <tr>\n",
       "      <th>/tmp/myraf_dkrfib90.fits</th>\n",
       "      <td>795663</td>\n",
       "      <td>9773.435316</td>\n",
       "      <td>2946.105661</td>\n",
       "      <td>3759.0</td>\n",
       "      <td>22918.0</td>\n",
       "    </tr>\n",
       "    <tr>\n",
       "      <th>/tmp/myraf_qzk_xv9k.fits</th>\n",
       "      <td>795663</td>\n",
       "      <td>9753.279435</td>\n",
       "      <td>2914.886368</td>\n",
       "      <td>3759.0</td>\n",
       "      <td>22918.0</td>\n",
       "    </tr>\n",
       "    <tr>\n",
       "      <th>/tmp/myraf_j7kx3iu8.fits</th>\n",
       "      <td>795663</td>\n",
       "      <td>9732.043198</td>\n",
       "      <td>2882.845449</td>\n",
       "      <td>3759.0</td>\n",
       "      <td>22907.0</td>\n",
       "    </tr>\n",
       "    <tr>\n",
       "      <th>/tmp/myraf_yssaz3fw.fits</th>\n",
       "      <td>795663</td>\n",
       "      <td>9709.984656</td>\n",
       "      <td>2849.064228</td>\n",
       "      <td>3759.0</td>\n",
       "      <td>22907.0</td>\n",
       "    </tr>\n",
       "    <tr>\n",
       "      <th>/tmp/myraf_j0c2n4w3.fits</th>\n",
       "      <td>795663</td>\n",
       "      <td>9688.647336</td>\n",
       "      <td>2816.956078</td>\n",
       "      <td>3759.0</td>\n",
       "      <td>22907.0</td>\n",
       "    </tr>\n",
       "    <tr>\n",
       "      <th>/tmp/myraf_w_m5oh0a.fits</th>\n",
       "      <td>795663</td>\n",
       "      <td>9666.532660</td>\n",
       "      <td>2783.737161</td>\n",
       "      <td>3759.0</td>\n",
       "      <td>22907.0</td>\n",
       "    </tr>\n",
       "    <tr>\n",
       "      <th>/tmp/myraf_d2_hh3ff.fits</th>\n",
       "      <td>795663</td>\n",
       "      <td>9644.765056</td>\n",
       "      <td>2750.554935</td>\n",
       "      <td>3759.0</td>\n",
       "      <td>22907.0</td>\n",
       "    </tr>\n",
       "  </tbody>\n",
       "</table>\n",
       "</div>"
      ]
     },
     "execution_count": 4,
     "metadata": {},
     "output_type": "execute_result"
    }
   ],
   "execution_count": 4
  },
  {
   "metadata": {},
   "cell_type": "markdown",
   "source": [
    "## pixel_to_sky\n",
    "\n",
    "Returns a `SkyCoord` object for the corresponding pixel, provided that WCS (World Coordinate System) data is available."
   ],
   "id": "c458d578faa987c9"
  },
  {
   "metadata": {
    "ExecuteTime": {
     "end_time": "2024-09-23T10:05:22.253242697Z",
     "start_time": "2024-09-13T11:49:56.759293Z"
    }
   },
   "cell_type": "code",
   "source": [
    "skys = fits_array.pixels_to_skys(10, 10)\n",
    "skys"
   ],
   "id": "62e60e75ae044d24",
   "outputs": [
    {
     "data": {
      "text/plain": [
       "                          xcentroid  ycentroid  \\\n",
       "image                                            \n",
       "/tmp/myraf_80wz3_xg.fits         10         10   \n",
       "/tmp/myraf_zye5lbk7.fits         10         10   \n",
       "/tmp/myraf_us10d71a.fits         10         10   \n",
       "/tmp/myraf_dkrfib90.fits         10         10   \n",
       "/tmp/myraf_qzk_xv9k.fits         10         10   \n",
       "/tmp/myraf_j7kx3iu8.fits         10         10   \n",
       "/tmp/myraf_yssaz3fw.fits         10         10   \n",
       "/tmp/myraf_j0c2n4w3.fits         10         10   \n",
       "/tmp/myraf_w_m5oh0a.fits         10         10   \n",
       "/tmp/myraf_d2_hh3ff.fits         10         10   \n",
       "\n",
       "                                                                        sky  \n",
       "image                                                                        \n",
       "/tmp/myraf_80wz3_xg.fits  <SkyCoord (ICRS): (ra, dec) in deg\\n    (85.39...  \n",
       "/tmp/myraf_zye5lbk7.fits  <SkyCoord (ICRS): (ra, dec) in deg\\n    (85.39...  \n",
       "/tmp/myraf_us10d71a.fits  <SkyCoord (ICRS): (ra, dec) in deg\\n    (85.40...  \n",
       "/tmp/myraf_dkrfib90.fits  <SkyCoord (ICRS): (ra, dec) in deg\\n    (85.40...  \n",
       "/tmp/myraf_qzk_xv9k.fits  <SkyCoord (ICRS): (ra, dec) in deg\\n    (85.40...  \n",
       "/tmp/myraf_j7kx3iu8.fits  <SkyCoord (ICRS): (ra, dec) in deg\\n    (85.41...  \n",
       "/tmp/myraf_yssaz3fw.fits  <SkyCoord (ICRS): (ra, dec) in deg\\n    (85.41...  \n",
       "/tmp/myraf_j0c2n4w3.fits  <SkyCoord (ICRS): (ra, dec) in deg\\n    (85.41...  \n",
       "/tmp/myraf_w_m5oh0a.fits  <SkyCoord (ICRS): (ra, dec) in deg\\n    (85.41...  \n",
       "/tmp/myraf_d2_hh3ff.fits  <SkyCoord (ICRS): (ra, dec) in deg\\n    (85.42...  "
      ],
      "text/html": [
       "<div>\n",
       "<style scoped>\n",
       "    .dataframe tbody tr th:only-of-type {\n",
       "        vertical-align: middle;\n",
       "    }\n",
       "\n",
       "    .dataframe tbody tr th {\n",
       "        vertical-align: top;\n",
       "    }\n",
       "\n",
       "    .dataframe thead th {\n",
       "        text-align: right;\n",
       "    }\n",
       "</style>\n",
       "<table border=\"1\" class=\"dataframe\">\n",
       "  <thead>\n",
       "    <tr style=\"text-align: right;\">\n",
       "      <th></th>\n",
       "      <th>xcentroid</th>\n",
       "      <th>ycentroid</th>\n",
       "      <th>sky</th>\n",
       "    </tr>\n",
       "    <tr>\n",
       "      <th>image</th>\n",
       "      <th></th>\n",
       "      <th></th>\n",
       "      <th></th>\n",
       "    </tr>\n",
       "  </thead>\n",
       "  <tbody>\n",
       "    <tr>\n",
       "      <th>/tmp/myraf_80wz3_xg.fits</th>\n",
       "      <td>10</td>\n",
       "      <td>10</td>\n",
       "      <td>&lt;SkyCoord (ICRS): (ra, dec) in deg\\n    (85.39...</td>\n",
       "    </tr>\n",
       "    <tr>\n",
       "      <th>/tmp/myraf_zye5lbk7.fits</th>\n",
       "      <td>10</td>\n",
       "      <td>10</td>\n",
       "      <td>&lt;SkyCoord (ICRS): (ra, dec) in deg\\n    (85.39...</td>\n",
       "    </tr>\n",
       "    <tr>\n",
       "      <th>/tmp/myraf_us10d71a.fits</th>\n",
       "      <td>10</td>\n",
       "      <td>10</td>\n",
       "      <td>&lt;SkyCoord (ICRS): (ra, dec) in deg\\n    (85.40...</td>\n",
       "    </tr>\n",
       "    <tr>\n",
       "      <th>/tmp/myraf_dkrfib90.fits</th>\n",
       "      <td>10</td>\n",
       "      <td>10</td>\n",
       "      <td>&lt;SkyCoord (ICRS): (ra, dec) in deg\\n    (85.40...</td>\n",
       "    </tr>\n",
       "    <tr>\n",
       "      <th>/tmp/myraf_qzk_xv9k.fits</th>\n",
       "      <td>10</td>\n",
       "      <td>10</td>\n",
       "      <td>&lt;SkyCoord (ICRS): (ra, dec) in deg\\n    (85.40...</td>\n",
       "    </tr>\n",
       "    <tr>\n",
       "      <th>/tmp/myraf_j7kx3iu8.fits</th>\n",
       "      <td>10</td>\n",
       "      <td>10</td>\n",
       "      <td>&lt;SkyCoord (ICRS): (ra, dec) in deg\\n    (85.41...</td>\n",
       "    </tr>\n",
       "    <tr>\n",
       "      <th>/tmp/myraf_yssaz3fw.fits</th>\n",
       "      <td>10</td>\n",
       "      <td>10</td>\n",
       "      <td>&lt;SkyCoord (ICRS): (ra, dec) in deg\\n    (85.41...</td>\n",
       "    </tr>\n",
       "    <tr>\n",
       "      <th>/tmp/myraf_j0c2n4w3.fits</th>\n",
       "      <td>10</td>\n",
       "      <td>10</td>\n",
       "      <td>&lt;SkyCoord (ICRS): (ra, dec) in deg\\n    (85.41...</td>\n",
       "    </tr>\n",
       "    <tr>\n",
       "      <th>/tmp/myraf_w_m5oh0a.fits</th>\n",
       "      <td>10</td>\n",
       "      <td>10</td>\n",
       "      <td>&lt;SkyCoord (ICRS): (ra, dec) in deg\\n    (85.41...</td>\n",
       "    </tr>\n",
       "    <tr>\n",
       "      <th>/tmp/myraf_d2_hh3ff.fits</th>\n",
       "      <td>10</td>\n",
       "      <td>10</td>\n",
       "      <td>&lt;SkyCoord (ICRS): (ra, dec) in deg\\n    (85.42...</td>\n",
       "    </tr>\n",
       "  </tbody>\n",
       "</table>\n",
       "</div>"
      ]
     },
     "execution_count": 5,
     "metadata": {},
     "output_type": "execute_result"
    }
   ],
   "execution_count": 5
  },
  {
   "metadata": {},
   "cell_type": "markdown",
   "source": [
    "## sky_to_pixel\n",
    "\n",
    "Returns the pixel coordinates corresponding to the given `SkyCoord` object, provided that WCS (World Coordinate System) data is available."
   ],
   "id": "45dff20efaf13728"
  },
  {
   "metadata": {
    "ExecuteTime": {
     "end_time": "2024-09-23T10:05:22.253602157Z",
     "start_time": "2024-09-13T11:49:56.850331Z"
    }
   },
   "cell_type": "code",
   "source": [
    "sky = SkyCoord(85.39691915, -2.58041503, unit=\"degree\")\n",
    "\n",
    "pixels = fits_array.skys_to_pixels(sky)\n",
    "pixels"
   ],
   "id": "10b24079390cafaf",
   "outputs": [
    {
     "data": {
      "text/plain": [
       "                                                                        sky  \\\n",
       "image                                                                         \n",
       "/tmp/myraf_80wz3_xg.fits  <SkyCoord (ICRS): (ra, dec) in deg\\n    (85.39...   \n",
       "/tmp/myraf_zye5lbk7.fits  <SkyCoord (ICRS): (ra, dec) in deg\\n    (85.39...   \n",
       "/tmp/myraf_us10d71a.fits  <SkyCoord (ICRS): (ra, dec) in deg\\n    (85.39...   \n",
       "/tmp/myraf_dkrfib90.fits  <SkyCoord (ICRS): (ra, dec) in deg\\n    (85.39...   \n",
       "/tmp/myraf_qzk_xv9k.fits  <SkyCoord (ICRS): (ra, dec) in deg\\n    (85.39...   \n",
       "/tmp/myraf_j7kx3iu8.fits  <SkyCoord (ICRS): (ra, dec) in deg\\n    (85.39...   \n",
       "/tmp/myraf_yssaz3fw.fits  <SkyCoord (ICRS): (ra, dec) in deg\\n    (85.39...   \n",
       "/tmp/myraf_j0c2n4w3.fits  <SkyCoord (ICRS): (ra, dec) in deg\\n    (85.39...   \n",
       "/tmp/myraf_w_m5oh0a.fits  <SkyCoord (ICRS): (ra, dec) in deg\\n    (85.39...   \n",
       "/tmp/myraf_d2_hh3ff.fits  <SkyCoord (ICRS): (ra, dec) in deg\\n    (85.39...   \n",
       "\n",
       "                          xcentroid   ycentroid  \n",
       "image                                            \n",
       "/tmp/myraf_80wz3_xg.fits   9.988792   10.004595  \n",
       "/tmp/myraf_zye5lbk7.fits  19.992741   20.003951  \n",
       "/tmp/myraf_us10d71a.fits  29.986224   30.007492  \n",
       "/tmp/myraf_dkrfib90.fits  39.976483   40.005405  \n",
       "/tmp/myraf_qzk_xv9k.fits  49.983804   50.006241  \n",
       "/tmp/myraf_j7kx3iu8.fits  59.986618   60.009237  \n",
       "/tmp/myraf_yssaz3fw.fits  69.987005   70.006781  \n",
       "/tmp/myraf_j0c2n4w3.fits  79.988970   80.002780  \n",
       "/tmp/myraf_w_m5oh0a.fits  89.990820   90.002388  \n",
       "/tmp/myraf_d2_hh3ff.fits  99.991167  100.005066  "
      ],
      "text/html": [
       "<div>\n",
       "<style scoped>\n",
       "    .dataframe tbody tr th:only-of-type {\n",
       "        vertical-align: middle;\n",
       "    }\n",
       "\n",
       "    .dataframe tbody tr th {\n",
       "        vertical-align: top;\n",
       "    }\n",
       "\n",
       "    .dataframe thead th {\n",
       "        text-align: right;\n",
       "    }\n",
       "</style>\n",
       "<table border=\"1\" class=\"dataframe\">\n",
       "  <thead>\n",
       "    <tr style=\"text-align: right;\">\n",
       "      <th></th>\n",
       "      <th>sky</th>\n",
       "      <th>xcentroid</th>\n",
       "      <th>ycentroid</th>\n",
       "    </tr>\n",
       "    <tr>\n",
       "      <th>image</th>\n",
       "      <th></th>\n",
       "      <th></th>\n",
       "      <th></th>\n",
       "    </tr>\n",
       "  </thead>\n",
       "  <tbody>\n",
       "    <tr>\n",
       "      <th>/tmp/myraf_80wz3_xg.fits</th>\n",
       "      <td>&lt;SkyCoord (ICRS): (ra, dec) in deg\\n    (85.39...</td>\n",
       "      <td>9.988792</td>\n",
       "      <td>10.004595</td>\n",
       "    </tr>\n",
       "    <tr>\n",
       "      <th>/tmp/myraf_zye5lbk7.fits</th>\n",
       "      <td>&lt;SkyCoord (ICRS): (ra, dec) in deg\\n    (85.39...</td>\n",
       "      <td>19.992741</td>\n",
       "      <td>20.003951</td>\n",
       "    </tr>\n",
       "    <tr>\n",
       "      <th>/tmp/myraf_us10d71a.fits</th>\n",
       "      <td>&lt;SkyCoord (ICRS): (ra, dec) in deg\\n    (85.39...</td>\n",
       "      <td>29.986224</td>\n",
       "      <td>30.007492</td>\n",
       "    </tr>\n",
       "    <tr>\n",
       "      <th>/tmp/myraf_dkrfib90.fits</th>\n",
       "      <td>&lt;SkyCoord (ICRS): (ra, dec) in deg\\n    (85.39...</td>\n",
       "      <td>39.976483</td>\n",
       "      <td>40.005405</td>\n",
       "    </tr>\n",
       "    <tr>\n",
       "      <th>/tmp/myraf_qzk_xv9k.fits</th>\n",
       "      <td>&lt;SkyCoord (ICRS): (ra, dec) in deg\\n    (85.39...</td>\n",
       "      <td>49.983804</td>\n",
       "      <td>50.006241</td>\n",
       "    </tr>\n",
       "    <tr>\n",
       "      <th>/tmp/myraf_j7kx3iu8.fits</th>\n",
       "      <td>&lt;SkyCoord (ICRS): (ra, dec) in deg\\n    (85.39...</td>\n",
       "      <td>59.986618</td>\n",
       "      <td>60.009237</td>\n",
       "    </tr>\n",
       "    <tr>\n",
       "      <th>/tmp/myraf_yssaz3fw.fits</th>\n",
       "      <td>&lt;SkyCoord (ICRS): (ra, dec) in deg\\n    (85.39...</td>\n",
       "      <td>69.987005</td>\n",
       "      <td>70.006781</td>\n",
       "    </tr>\n",
       "    <tr>\n",
       "      <th>/tmp/myraf_j0c2n4w3.fits</th>\n",
       "      <td>&lt;SkyCoord (ICRS): (ra, dec) in deg\\n    (85.39...</td>\n",
       "      <td>79.988970</td>\n",
       "      <td>80.002780</td>\n",
       "    </tr>\n",
       "    <tr>\n",
       "      <th>/tmp/myraf_w_m5oh0a.fits</th>\n",
       "      <td>&lt;SkyCoord (ICRS): (ra, dec) in deg\\n    (85.39...</td>\n",
       "      <td>89.990820</td>\n",
       "      <td>90.002388</td>\n",
       "    </tr>\n",
       "    <tr>\n",
       "      <th>/tmp/myraf_d2_hh3ff.fits</th>\n",
       "      <td>&lt;SkyCoord (ICRS): (ra, dec) in deg\\n    (85.39...</td>\n",
       "      <td>99.991167</td>\n",
       "      <td>100.005066</td>\n",
       "    </tr>\n",
       "  </tbody>\n",
       "</table>\n",
       "</div>"
      ]
     },
     "execution_count": 6,
     "metadata": {},
     "output_type": "execute_result"
    }
   ],
   "execution_count": 6
  },
  {
   "metadata": {},
   "cell_type": "markdown",
   "source": [
    "## group_by\n",
    "\n",
    "The `group_by` method organizes FITS images into a dictionary of `FitsArray` objects, grouped by the value of a specified header key. This allows you to efficiently manage and process images based on metadata stored in the FITS headers."
   ],
   "id": "34610376fe2015a6"
  },
  {
   "metadata": {
    "ExecuteTime": {
     "end_time": "2024-09-23T10:05:22.253857102Z",
     "start_time": "2024-09-13T11:49:56.926756Z"
    }
   },
   "cell_type": "code",
   "source": [
    "fits_array[:5].hedit(\"test\", \"group1\")\n",
    "fits_array[5:].hedit(\"test\", \"group2\")\n",
    "groups = fits_array.group_by(\"TEST\")\n",
    "print(groups)"
   ],
   "id": "c2bae71f02058de0",
   "outputs": [
    {
     "name": "stdout",
     "output_type": "stream",
     "text": [
      "{('group1',): FitsArray(@: '135314169297264', nof:'5'), ('group2',): FitsArray(@: '135314169293136', nof:'5')}\n"
     ]
    }
   ],
   "execution_count": 7
  },
  {
   "metadata": {
    "ExecuteTime": {
     "end_time": "2024-09-23T10:05:22.253960972Z",
     "start_time": "2024-09-13T11:49:57.000062Z"
    }
   },
   "cell_type": "code",
   "source": "",
   "id": "8bcefe74a2e3ff86",
   "outputs": [],
   "execution_count": null
  }
 ],
 "metadata": {
  "kernelspec": {
   "display_name": "Python 3",
   "language": "python",
   "name": "python3"
  },
  "language_info": {
   "codemirror_mode": {
    "name": "ipython",
    "version": 2
   },
   "file_extension": ".py",
   "mimetype": "text/x-python",
   "name": "python",
   "nbconvert_exporter": "python",
   "pygments_lexer": "ipython2",
   "version": "2.7.6"
  }
 },
 "nbformat": 4,
 "nbformat_minor": 5
}
