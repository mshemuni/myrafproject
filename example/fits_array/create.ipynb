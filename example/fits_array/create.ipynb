{
 "cells": [
  {
   "metadata": {},
   "cell_type": "markdown",
   "source": [
    "# What is `FitsArray` object?\n",
    "\n",
    "Did you like `Fits` object. What if we could put them in a list and expect same functionalities and maybe more? Here we have `FitsArray`."
   ],
   "id": "b13f61fea543f6fd"
  },
  {
   "metadata": {
    "ExecuteTime": {
     "end_time": "2024-09-23T10:04:45.458139Z",
     "start_time": "2024-09-23T10:04:43.705017Z"
    }
   },
   "cell_type": "code",
   "source": [
    "from myraflib import FitsArray, Fits\n",
    "fits_array = FitsArray(\n",
    "    [Fits.sample().shift(i*10, i*10) for i in range(10)],\n",
    ")\n",
    "fits_array"
   ],
   "id": "75bb301e5ac11fb6",
   "outputs": [
    {
     "data": {
      "text/plain": [
       "FitsArray(@: '140517618132560', nof:'10')"
      ]
     },
     "execution_count": 1,
     "metadata": {},
     "output_type": "execute_result"
    }
   ],
   "execution_count": 1
  },
  {
   "metadata": {},
   "cell_type": "markdown",
   "source": [
    "## from_paths\n",
    "The `from_paths` class method accepts the file paths of any number of FITS files as a list of strings and returns an instance of the `FitsArray` object."
   ],
   "id": "df6dc225cc7758c1"
  },
  {
   "metadata": {
    "ExecuteTime": {
     "end_time": "2024-09-23T10:04:45.526114Z",
     "start_time": "2024-09-23T10:04:45.522832Z"
    }
   },
   "cell_type": "code",
   "source": [
    "from myraflib import FitsArray\n",
    "\n",
    "fits_array = FitsArray.from_paths([\"sample.fits\", \"sample.fits\", \"sample.fits\", \"sample.fits\"])\n",
    "fits_array"
   ],
   "id": "e4c523ecedc330e2",
   "outputs": [
    {
     "data": {
      "text/plain": [
       "FitsArray(@: '140517674606992', nof:'4')"
      ]
     },
     "execution_count": 2,
     "metadata": {},
     "output_type": "execute_result"
    }
   ],
   "execution_count": 2
  },
  {
   "metadata": {},
   "cell_type": "markdown",
   "source": [
    "## from_pattern\n",
    "The `from_pattern` method allows creating a `FitsArray` object from a given pattern that `glob.glob` understands."
   ],
   "id": "65f1d08739ad4f0c"
  },
  {
   "metadata": {
    "ExecuteTime": {
     "end_time": "2024-09-23T10:04:45.632344Z",
     "start_time": "2024-09-23T10:04:45.628309Z"
    }
   },
   "cell_type": "code",
   "source": [
    "from myraflib import FitsArray\n",
    "\n",
    "fits_array = FitsArray.from_pattern(\"./*.fits\")\n",
    "fits_array"
   ],
   "id": "2df57a4d131b57b6",
   "outputs": [
    {
     "data": {
      "text/plain": [
       "FitsArray(@: '140519853627408', nof:'1')"
      ]
     },
     "execution_count": 3,
     "metadata": {},
     "output_type": "execute_result"
    }
   ],
   "execution_count": 3
  },
  {
   "metadata": {},
   "cell_type": "markdown",
   "source": [
    "## sample\n",
    "Additionally, the `FitsArray` object can generate a list of sample FITS files for testing purposes, utilizing the data from its internal FITS file."
   ],
   "id": "3892e6fe65a8ee8b"
  },
  {
   "metadata": {
    "ExecuteTime": {
     "end_time": "2024-09-23T10:04:46.059110Z",
     "start_time": "2024-09-23T10:04:45.675835Z"
    }
   },
   "cell_type": "code",
   "source": [
    "from myraflib import FitsArray\n",
    "\n",
    "fits_array = FitsArray.sample()\n",
    "fits_array"
   ],
   "id": "76f69f18c10460a",
   "outputs": [
    {
     "data": {
      "text/plain": [
       "FitsArray(@: '140517632776144', nof:'10')"
      ]
     },
     "execution_count": 4,
     "metadata": {},
     "output_type": "execute_result"
    }
   ],
   "execution_count": 4
  },
  {
   "metadata": {},
   "cell_type": "markdown",
   "source": "The `FitsArray` object is iterable, which means you can use it in a `for` loop or access elements by index to retrieve a specific `Fits` object. Additionally, if you provide a slice, a new `FitsArray` object may be returned containing the specified range of `Fits` objects.",
   "id": "12bb18a2e6fd6181"
  },
  {
   "metadata": {
    "ExecuteTime": {
     "end_time": "2024-09-23T10:04:46.065884Z",
     "start_time": "2024-09-23T10:04:46.063712Z"
    }
   },
   "cell_type": "code",
   "source": [
    "for fits in fits_array:\n",
    "    print(fits)\n"
   ],
   "id": "c7e3546e394d57e9",
   "outputs": [
    {
     "name": "stdout",
     "output_type": "stream",
     "text": [
      "Fits(@: '140517592646864', path:'/tmp/myraf_8dq48_zj.fits')\n",
      "Fits(@: '140517592648016', path:'/tmp/myraf_rl__pst2.fits')\n",
      "Fits(@: '140519928903312', path:'/tmp/myraf_9anf7c7z.fits')\n",
      "Fits(@: '140517597300304', path:'/tmp/myraf_t39w1cot.fits')\n",
      "Fits(@: '140517597301072', path:'/tmp/myraf_i2zxuowo.fits')\n",
      "Fits(@: '140517595256464', path:'/tmp/myraf_gpppae20.fits')\n",
      "Fits(@: '140517618232848', path:'/tmp/myraf_e6o5t9m1.fits')\n",
      "Fits(@: '140517622863952', path:'/tmp/myraf_2tsxjpy5.fits')\n",
      "Fits(@: '140517617543888', path:'/tmp/myraf_3atosrv3.fits')\n",
      "Fits(@: '140517592642256', path:'/tmp/myraf_r3f_hdc4.fits')\n"
     ]
    }
   ],
   "execution_count": 5
  },
  {
   "metadata": {
    "ExecuteTime": {
     "end_time": "2024-09-23T10:04:46.111379Z",
     "start_time": "2024-09-23T10:04:46.108947Z"
    }
   },
   "cell_type": "code",
   "source": [
    "fits = fits_array[0]\n",
    "fits"
   ],
   "id": "fa9e87282503a189",
   "outputs": [
    {
     "data": {
      "text/plain": [
       "Fits(@: '140517592646864', path:'/tmp/myraf_8dq48_zj.fits')"
      ]
     },
     "execution_count": 6,
     "metadata": {},
     "output_type": "execute_result"
    }
   ],
   "execution_count": 6
  },
  {
   "metadata": {
    "ExecuteTime": {
     "end_time": "2024-09-23T10:04:46.157102Z",
     "start_time": "2024-09-23T10:04:46.155379Z"
    }
   },
   "cell_type": "code",
   "source": "",
   "id": "75000220fb0d1a66",
   "outputs": [],
   "execution_count": null
  }
 ],
 "metadata": {
  "kernelspec": {
   "display_name": "Python 3",
   "language": "python",
   "name": "python3"
  },
  "language_info": {
   "codemirror_mode": {
    "name": "ipython",
    "version": 2
   },
   "file_extension": ".py",
   "mimetype": "text/x-python",
   "name": "python",
   "nbconvert_exporter": "python",
   "pygments_lexer": "ipython2",
   "version": "2.7.6"
  }
 },
 "nbformat": 4,
 "nbformat_minor": 5
}
