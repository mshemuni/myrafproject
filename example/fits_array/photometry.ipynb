{
 "cells": [
  {
   "metadata": {},
   "cell_type": "markdown",
   "source": [
    "# Photometry\n",
    "\n",
    "Photometry is the primary purpose of MYRaf. The software provides two methods for performing photometric analysis:"
   ],
   "id": "9a18325fc875b762"
  },
  {
   "metadata": {},
   "cell_type": "code",
   "source": [
    "from myraflib import FitsArray\n",
    "\n",
    "fits_array = FitsArray.sample()\n",
    "\n",
    "sources = fits_array.extract()\n",
    "sources"
   ],
   "id": "96571a2f9471c34c",
   "outputs": [],
   "execution_count": null
  },
  {
   "metadata": {},
   "cell_type": "markdown",
   "source": [
    "## photometry_sep\n",
    "\n",
    "This method performs photometry using the `sum_circle` function."
   ],
   "id": "585abdf8a5012d57"
  },
  {
   "metadata": {},
   "cell_type": "code",
   "source": [
    "photometry_set = fits_array.photometry_sep(sources[\"xcentroid\"].to_list(), sources[\"ycentroid\"].to_list(), 10)\n",
    "photometry_set"
   ],
   "id": "891aaf9b16698c1a",
   "outputs": [],
   "execution_count": null
  },
  {
   "metadata": {},
   "cell_type": "markdown",
   "source": [
    "## photometry_phu\n",
    "\n",
    "This method performs photometry using the `CircularAperture` function."
   ],
   "id": "936db71ecb7c24a4"
  },
  {
   "metadata": {},
   "cell_type": "code",
   "source": [
    "photometry_phu = fits_array.photometry_phu(sources[\"xcentroid\"].to_list(), sources[\"ycentroid\"].to_list(), 10)\n",
    "photometry_phu"
   ],
   "id": "a9203cc6ee5d3044",
   "outputs": [],
   "execution_count": null
  },
  {
   "metadata": {},
   "cell_type": "markdown",
   "source": [
    "## photometry\n",
    "\n",
    "Or one can use both methods at once:"
   ],
   "id": "af20effc1297c4b0"
  },
  {
   "metadata": {},
   "cell_type": "code",
   "source": [
    "photometry = fits_array.photometry(sources[\"xcentroid\"].to_list(), sources[\"ycentroid\"].to_list(), 10)\n",
    "photometry"
   ],
   "id": "20f19bdf8277964",
   "outputs": [],
   "execution_count": null
  }
 ],
 "metadata": {
  "kernelspec": {
   "display_name": "Python 3",
   "language": "python",
   "name": "python3"
  },
  "language_info": {
   "codemirror_mode": {
    "name": "ipython",
    "version": 2
   },
   "file_extension": ".py",
   "mimetype": "text/x-python",
   "name": "python",
   "nbconvert_exporter": "python",
   "pygments_lexer": "ipython2",
   "version": "2.7.6"
  }
 },
 "nbformat": 4,
 "nbformat_minor": 5
}
